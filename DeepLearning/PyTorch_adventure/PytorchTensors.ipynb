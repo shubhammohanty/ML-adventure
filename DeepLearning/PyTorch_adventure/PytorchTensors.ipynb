{
 "cells": [
  {
   "cell_type": "code",
   "execution_count": null,
   "id": "62337fa0-f85e-4b35-99bd-9d210d301e97",
   "metadata": {},
   "outputs": [],
   "source": [
    "import torch"
   ]
  },
  {
   "cell_type": "markdown",
   "id": "4a9f8d64-33b6-48ab-87b0-cb19be0504bc",
   "metadata": {},
   "source": [
    "# Introduction to Tensors\n",
    "Tensors are the building blocks of neural networks as they takein data in the form of tensors. Pytorch completely revolve around tensors as all the data is passed in the form of tensors. "
   ]
  },
  {
   "cell_type": "markdown",
   "id": "4c29922c-1595-4971-a5d4-0a9335dfcf07",
   "metadata": {},
   "source": [
    "### scalars"
   ]
  },
  {
   "cell_type": "code",
   "execution_count": null,
   "id": "0e5dd323-3e8b-49fa-9144-de141bbc3ecc",
   "metadata": {},
   "outputs": [],
   "source": [
    "scalar = torch.tensor(7)   #creates a scalar of value 7 \n",
    "print(scalar)      #prints the scalar\n",
    "print(scalar.ndim)        #prints the dimension of the tensor ie 0 for scalar\n",
    "scalar.item()      #prints the item inside the tensor, item() function only works for scalar"
   ]
  },
  {
   "cell_type": "markdown",
   "id": "9010d6fd-2afa-43c0-86ff-4ce5072995a4",
   "metadata": {},
   "source": [
    "### vectors"
   ]
  },
  {
   "cell_type": "code",
   "execution_count": null,
   "id": "4a57746a-8f3b-4d71-b069-7b620f7202fe",
   "metadata": {},
   "outputs": [],
   "source": [
    "vector = torch.tensor([7,7,7])   #creates a vector of value 7 \n",
    "print(vector)      #prints the vector\n",
    "print(vector.shape) #prints the shape of the vector\n",
    "print(vector.ndim)    "
   ]
  },
  {
   "cell_type": "code",
   "execution_count": null,
   "id": "cff7ee3a-d431-43ca-9fc9-17531ca63ea1",
   "metadata": {},
   "outputs": [],
   "source": [
    "    #prints the dimension of the tensor ie 1 for vector"
   ]
  },
  {
   "cell_type": "markdown",
   "id": "a3e47bd2-28e5-409f-a4e0-5043dde4cf48",
   "metadata": {},
   "source": [
    "### matrices"
   ]
  },
  {
   "cell_type": "code",
   "execution_count": null,
   "id": "4f98d5a7-9a97-4d89-8c28-54967286ead7",
   "metadata": {},
   "outputs": [],
   "source": [
    "MATRIX = torch.tensor([[7,7,7],\n",
    "                       [7,7,7],\n",
    "                       [7,7,7]])\n",
    "MATRIX"
   ]
  },
  {
   "cell_type": "code",
   "execution_count": null,
   "id": "6dec03ec-05be-4b0a-a745-ffed5870c7b1",
   "metadata": {},
   "outputs": [],
   "source": [
    "MATRIX.ndim"
   ]
  },
  {
   "cell_type": "code",
   "execution_count": null,
   "id": "9defd504-2638-402c-b2be-d360934b7a4e",
   "metadata": {},
   "outputs": [],
   "source": [
    "MATRIX.shape"
   ]
  },
  {
   "cell_type": "markdown",
   "id": "08767215-bc2d-4635-b554-35e977e7827d",
   "metadata": {},
   "source": [
    "### tensors"
   ]
  },
  {
   "cell_type": "code",
   "execution_count": null,
   "id": "1e806769-c355-4bcb-b130-702582191356",
   "metadata": {},
   "outputs": [],
   "source": [
    "TENSOR = torch.tensor([[[7,7],\n",
    "                        [7,7]],  [[7,7],\n",
    "                                  [7,7]]])\n",
    "TENSOR"
   ]
  },
  {
   "cell_type": "code",
   "execution_count": null,
   "id": "8f2b8f59-2cbb-4f2e-b384-f3ee44815601",
   "metadata": {},
   "outputs": [],
   "source": [
    "TENSOR.ndim"
   ]
  },
  {
   "cell_type": "code",
   "execution_count": null,
   "id": "8d5289f4-afcc-4ee3-87a0-bb61c5b9325b",
   "metadata": {},
   "outputs": [],
   "source": [
    "TENSOR.shape"
   ]
  },
  {
   "cell_type": "markdown",
   "id": "1e4f1c94-7f43-4ad0-84de-e8f72485eb0e",
   "metadata": {},
   "source": [
    "## Random Tensors\n",
    "\n",
    "Why Random Tensors?\n",
    "Random tensors are very important as neural networks start with random tensors and then adjust their values as they train\n",
    "\n",
    "`take random tensor-> look at the data-> update tensor-> look at the data-> update the tensor`"
   ]
  },
  {
   "cell_type": "markdown",
   "id": "8cf96e19-1bcc-4878-a3c5-2730edfec86e",
   "metadata": {},
   "source": [
    "### creating a random tensor"
   ]
  },
  {
   "cell_type": "code",
   "execution_count": null,
   "id": "c51adb0b-f5ec-4ac9-b99f-1e3bec06dd43",
   "metadata": {},
   "outputs": [],
   "source": [
    "random_tensor = torch.rand(size=(3,4,2)) #prodduces a random tensor of shape (3,4)\n",
    "random_tensor"
   ]
  },
  {
   "cell_type": "markdown",
   "id": "e9560838-8f95-47cd-8272-4b25e570a16f",
   "metadata": {},
   "source": [
    "### image tensors"
   ]
  },
  {
   "cell_type": "code",
   "execution_count": null,
   "id": "95293152-cf6d-479f-99b0-8e2d49b10b45",
   "metadata": {},
   "outputs": [],
   "source": [
    "image_tensor = torch.rand(size=(3, 28, 28))  # basically representing 3 colour channels that is 3 matrices of size 28x28 stacked on each other\n",
    "image_tensor.shape, image_tensor.ndim\n",
    "\n",
    "#generally the colour channel is kept as the last dimension ie (28,28,3)"
   ]
  },
  {
   "cell_type": "markdown",
   "id": "879727a0-87ed-48b4-a0bb-3b329221d303",
   "metadata": {},
   "source": [
    "### random tensor made of just 0s"
   ]
  },
  {
   "cell_type": "code",
   "execution_count": null,
   "id": "2f3b7ccc-3987-4f34-9dee-fcb7d5359896",
   "metadata": {},
   "outputs": [],
   "source": [
    "zeroTENSOR = torch.zeros(size = (3,4))\n",
    "zeroTENSOR"
   ]
  },
  {
   "cell_type": "markdown",
   "id": "1b6eafb8-49a5-4520-a1d4-cd37da5e76db",
   "metadata": {},
   "source": [
    "### random tensor made of just 1s"
   ]
  },
  {
   "cell_type": "code",
   "execution_count": null,
   "id": "ee6cd20b-c325-4df9-a96d-5072eba8bbf7",
   "metadata": {},
   "outputs": [],
   "source": [
    "onesTENSOR = torch.ones(size = (3,4))\n",
    "onesTENSOR"
   ]
  },
  {
   "cell_type": "code",
   "execution_count": null,
   "id": "fa44250b-3b71-4a96-8f83-10a54db96dd2",
   "metadata": {},
   "outputs": [],
   "source": [
    "onesTENSOR.dtype #default datatype used for creating the tensor"
   ]
  },
  {
   "cell_type": "markdown",
   "id": "3c14e74f-ed7c-46f8-8e27-18f3bff0dcf9",
   "metadata": {},
   "source": [
    "### producing tensor of range of numbers"
   ]
  },
  {
   "cell_type": "code",
   "execution_count": null,
   "id": "b63612fa-16e5-4a65-8aa7-8d63f0c56136",
   "metadata": {},
   "outputs": [],
   "source": [
    "torch.arange(start=5, end=100, step=5)"
   ]
  },
  {
   "cell_type": "markdown",
   "id": "12e97cfe-da38-4713-8f24-1c2ff52f6c5c",
   "metadata": {},
   "source": [
    "## Tensor Datatypes"
   ]
  },
  {
   "cell_type": "code",
   "execution_count": null,
   "id": "74c2b803-f23b-4d98-a5e1-10a5cd9a575e",
   "metadata": {},
   "outputs": [],
   "source": [
    "t1 = torch.rand(size = (3,4), dtype=None)  # default dtype is float32\n",
    "print(t1.dtype)\n",
    "t2 = torch.rand(size = (3,4), dtype=torch.float16)\n",
    "print(t2.dtype)\n",
    "\n",
    "t3 = torch.tensor([2,3,4], \n",
    "                  dtype = torch.float32, # datatype of tensor\n",
    "                 device='cpu', #cpu by default, we can enter 'cuda' for gpu and cpu for cpu. During calculations, both tensors require to be on same devices otherwise will give out error. \n",
    "                 requires_grad=False)  #whether or not to track gradient with these tensor operations.\n",
    "print(t3.device)\n",
    "\n",
    "\n",
    "\n",
    "t3_float16 = t3.type(torch.float16)   # changes the dtype of a tensor\n",
    "print(t3_float16.dtype)"
   ]
  },
  {
   "cell_type": "markdown",
   "id": "ce95b492-4699-45f4-ac25-b93f606f3ea2",
   "metadata": {},
   "source": [
    "# Manipulating Tensor (Tensor operations)\n",
    "Tensor operations include:\n",
    "* Addition\n",
    "* Subtraction\n",
    "* Multiplication(scalar and vector)\n",
    "* Division"
   ]
  },
  {
   "cell_type": "code",
   "execution_count": null,
   "id": "44eee9db-626b-40e0-8903-d21498b32730",
   "metadata": {},
   "outputs": [],
   "source": [
    "tensor1 = torch.rand(size=(4,3))\n",
    "tensor2 = torch.rand(size=(3,2))"
   ]
  },
  {
   "cell_type": "code",
   "execution_count": null,
   "id": "760cb997-90eb-42d1-bac3-c4b2618204c7",
   "metadata": {},
   "outputs": [],
   "source": [
    "tensor1"
   ]
  },
  {
   "cell_type": "code",
   "execution_count": null,
   "id": "9ae7c2e8-decf-4170-b217-5b9795af0a4f",
   "metadata": {},
   "outputs": [],
   "source": [
    "tensor1 + 10"
   ]
  },
  {
   "cell_type": "code",
   "execution_count": null,
   "id": "7f621a2e-cc51-492b-aa0e-7fe4209d5227",
   "metadata": {},
   "outputs": [],
   "source": [
    "tensor1 - 10"
   ]
  },
  {
   "cell_type": "code",
   "execution_count": null,
   "id": "79933908-a5c7-4b3c-89fd-2cc4846f1930",
   "metadata": {},
   "outputs": [],
   "source": [
    "tensor1 * 10 # element by element multiplication"
   ]
  },
  {
   "cell_type": "code",
   "execution_count": null,
   "id": "1cd7e975-3b8d-43dc-81fe-956f6fcb2a41",
   "metadata": {},
   "outputs": [],
   "source": [
    "tensor1 / 10"
   ]
  },
  {
   "cell_type": "code",
   "execution_count": null,
   "id": "b3a33ff5-2e27-4c3b-892a-7ffe0a5c363c",
   "metadata": {},
   "outputs": [],
   "source": [
    "torch.matmul(tensor1,tensor2)  #matrix multiplication, does dot product by default if both 1D arrays are passed"
   ]
  },
  {
   "cell_type": "markdown",
   "id": "3eb25a68-e4b1-43f4-8860-a912914998b4",
   "metadata": {},
   "source": [
    "# Tensor Aggregation (min, max, sum, mean etc.)"
   ]
  },
  {
   "cell_type": "code",
   "execution_count": null,
   "id": "31336ba7-b9d5-4600-bde7-1c3119f77d36",
   "metadata": {},
   "outputs": [],
   "source": [
    "arr1 = torch.arange(0, 100, 10)  #(start, end, step)"
   ]
  },
  {
   "cell_type": "code",
   "execution_count": null,
   "id": "b7edc3b8-dcb5-493c-b87a-377b4f81ed92",
   "metadata": {},
   "outputs": [],
   "source": [
    "print(arr1.min())\n",
    "print(arr1.max())\n",
    "print(arr1.sum())\n",
    "\n",
    "#for calculating mean, we need to convert the dtype to float\n",
    "print(arr1.dtype)\n",
    "arr2 = arr1.type(torch.float32)\n",
    "print(arr1.dtype)\n",
    "print(arr2.mean())"
   ]
  },
  {
   "cell_type": "markdown",
   "id": "ecf23682-6ea9-4794-8205-7d2f05d94c1a",
   "metadata": {},
   "source": [
    "# Reshaping, Viewing, Stacking, Squeezing and Unsqueezing, Permuting\n",
    "\n",
    "* Reshaping - reshapes an input tensor into a defined space\n",
    "* View - return a view of input tensor of certain shape but keeping same memory as the original tensor.\n",
    "* Stacking - combining multiple tensors which could be vertical stack (vstack) or horizontal stack (hstack)\n",
    "* Squeeze - removes all `1` dimension from a tensor\n",
    "* Unsqueeze - adds a `1` dimension to target tensor\n",
    "* Permute - returns a view of input tensor with dimensions permuted(swapped) in a certain way."
   ]
  },
  {
   "cell_type": "code",
   "execution_count": null,
   "id": "724923e4-a2cf-40bf-aacc-1d8cef2eb3a6",
   "metadata": {},
   "outputs": [],
   "source": [
    "x = torch.arange(1., 10.)  # this tensor is a vector\n",
    "x, x.shape"
   ]
  },
  {
   "cell_type": "markdown",
   "id": "ad2da8a3-0a0e-4395-a0d1-14a3c6bda163",
   "metadata": {},
   "source": [
    "## Reshaping\n",
    "It is the process of converting a tensor of n elements into some other shape provided it should also be the size of n elements only. This newly reshaped tensor can be stored in a variable and changing anything about the variable will not change anything in the original tensor as they use different memory."
   ]
  },
  {
   "cell_type": "code",
   "execution_count": null,
   "id": "85dd3509-0a65-452b-8c6b-878ef56313e7",
   "metadata": {},
   "outputs": [],
   "source": [
    "print(x.reshape(1,9), x.reshape(1,9).shape) # reshaped tensor is a matrix\n",
    "print(x.reshape(9,1), x.reshape(9,1).shape)\n",
    "print(x.reshape(3,3), x.reshape(3,3).shape)"
   ]
  },
  {
   "cell_type": "markdown",
   "id": "55861828-eb26-44d5-a4aa-2d07eb4dcc0f",
   "metadata": {},
   "source": [
    "## View\n",
    "This performs same action as reshaping but the difference is that changing anything in the variable which stores the viewed tensor will reflect the change in the original tensor also as they share same memory."
   ]
  },
  {
   "cell_type": "code",
   "execution_count": null,
   "id": "92b6d086-b878-4929-8b06-c3a054614e62",
   "metadata": {},
   "outputs": [],
   "source": [
    "z = x.view(1,9)\n",
    "z[:, 0] = 5\n",
    "z, x"
   ]
  },
  {
   "cell_type": "markdown",
   "id": "f1c31b2a-b63c-4af5-bb4d-912c2f45d18e",
   "metadata": {},
   "source": [
    "## Stacking tensors\n",
    "Depending on the dimension we pass for stacking, torch stacks them "
   ]
  },
  {
   "cell_type": "code",
   "execution_count": null,
   "id": "1d85a39a-f3c7-4bb5-be82-ef2bf690ac91",
   "metadata": {},
   "outputs": [],
   "source": [
    "x_stacked = torch.stack([x,x,x,x], dim=0)\n",
    "print(x_stacked)\n",
    "x_stacked = torch.stack([x,x,x,x], dim=1)\n",
    "print(x_stacked)"
   ]
  },
  {
   "cell_type": "markdown",
   "id": "b584d065-f463-472f-a2d1-39c9e48c9cb6",
   "metadata": {},
   "source": [
    "## Squeezing\n",
    "Squeezing removes the dimension `1` from the tensor "
   ]
  },
  {
   "cell_type": "code",
   "execution_count": null,
   "id": "a760991c-ed8d-4885-a99d-42371b1da5e6",
   "metadata": {},
   "outputs": [],
   "source": [
    "r = torch.rand(size=(7,1))\n",
    "\n",
    "r_squeezed = r.squeeze()\n",
    "print(r.shape, r_squeezed.shape)\n",
    "print(r)\n",
    "print(r_squeezed)"
   ]
  },
  {
   "cell_type": "markdown",
   "id": "9b9749d8-ee52-44b8-ac59-8d5bfea4620d",
   "metadata": {},
   "source": [
    "## Unsqueezing\n",
    "This adds a `1` dimension at the specified index(dimension) into the tensor"
   ]
  },
  {
   "cell_type": "code",
   "execution_count": null,
   "id": "32d7f331-4c2e-4252-aaab-485482522ecb",
   "metadata": {},
   "outputs": [],
   "source": [
    "print(r.unsqueeze(dim=0))\n",
    "print(r.unsqueeze(dim=1))"
   ]
  },
  {
   "cell_type": "markdown",
   "id": "bab4259d-e253-47a6-b928-15df313195c5",
   "metadata": {},
   "source": [
    "## Permute\n",
    "This helps on permuting(rearranging) the index of size of tensor"
   ]
  },
  {
   "cell_type": "code",
   "execution_count": null,
   "id": "3d1af0b8-4378-42d9-8208-cd08a47e26a1",
   "metadata": {},
   "outputs": [],
   "source": [
    "x = torch.rand(2,3,5)\n",
    "print(x.size())\n",
    "print(torch.permute(x, (2,0,1)).size())"
   ]
  },
  {
   "cell_type": "markdown",
   "id": "6d058533-416a-4f0c-8ac3-00fcd9347f19",
   "metadata": {},
   "source": [
    "# Indexing"
   ]
  },
  {
   "cell_type": "code",
   "execution_count": null,
   "id": "5eceda63-e132-4694-8cab-bc1ff055f549",
   "metadata": {},
   "outputs": [],
   "source": [
    "x = torch.arange(1,10).reshape(1,3,3)\n",
    "x, x.shape"
   ]
  },
  {
   "cell_type": "code",
   "execution_count": null,
   "id": "fce9b7cd-4835-495c-a439-6e6a6e8c95f3",
   "metadata": {},
   "outputs": [],
   "source": [
    "x[0]"
   ]
  },
  {
   "cell_type": "code",
   "execution_count": null,
   "id": "c100aef3-2d45-431d-9be8-721af2f7a6e8",
   "metadata": {},
   "outputs": [],
   "source": [
    "x[0][1]\n",
    "x[0,1]\n",
    "#both are same"
   ]
  },
  {
   "cell_type": "code",
   "execution_count": null,
   "id": "f2c45b4f-03ad-44a2-914e-45e906de335e",
   "metadata": {},
   "outputs": [],
   "source": [
    "x[0][0][0]"
   ]
  },
  {
   "cell_type": "markdown",
   "id": "e9b79153-0ea3-422c-a795-5b56558f1e13",
   "metadata": {},
   "source": [
    "## Slicing"
   ]
  },
  {
   "cell_type": "code",
   "execution_count": null,
   "id": "b4f390e0-ce93-4b81-8d32-c6e4b022aa93",
   "metadata": {},
   "outputs": [],
   "source": [
    "x[:,:,0] #gets elements at 0th index of all elements at dimension 0 and 1"
   ]
  },
  {
   "cell_type": "code",
   "execution_count": null,
   "id": "33ff0e45-6b92-47f4-8789-d1ea9a1e57c7",
   "metadata": {},
   "outputs": [],
   "source": [
    "x[:, 1, 1] #gets all values of 0th dimension but only index 1 value of 1st and 2nd dimension. "
   ]
  },
  {
   "cell_type": "markdown",
   "id": "4e2863c1-810b-4a9b-bcc3-f2c82e95d1b2",
   "metadata": {},
   "source": [
    "# Pytorch and Numpy"
   ]
  },
  {
   "cell_type": "code",
   "execution_count": null,
   "id": "610f31e0-1933-45df-8d6a-ec4b0aa4a5d5",
   "metadata": {},
   "outputs": [],
   "source": [
    "import numpy as np"
   ]
  },
  {
   "cell_type": "markdown",
   "id": "3477b356-aef2-4f4d-a1c2-bbcbb4e65836",
   "metadata": {},
   "source": [
    "## Numpy array to pytorch tensor\n",
    "* `torch.from_numpy(ndarray)`"
   ]
  },
  {
   "cell_type": "code",
   "execution_count": null,
   "id": "0b0322cd-e161-44eb-8319-03c1c304c7d1",
   "metadata": {},
   "outputs": [],
   "source": [
    "array = np.arange(1.0, 8.0)  #default dtype is float64\n",
    "tensor = torch.from_numpy(array)\n",
    "array, tensor"
   ]
  },
  {
   "cell_type": "code",
   "execution_count": null,
   "id": "899e966a-c1f4-4886-a743-5ff3765fd9fd",
   "metadata": {},
   "outputs": [],
   "source": [
    "tensor = tensor.type(torch.float32)\n",
    "tensor.dtype"
   ]
  },
  {
   "cell_type": "markdown",
   "id": "5c8b2255-08a3-4158-8e2d-60ef7fc93e90",
   "metadata": {},
   "source": [
    "## Pytorch tensor to numpy array\n",
    "* `tensor.numpy(tensor)`"
   ]
  },
  {
   "cell_type": "code",
   "execution_count": null,
   "id": "e5f93b30-b1e9-4138-8347-78ff67800978",
   "metadata": {},
   "outputs": [],
   "source": [
    "tensor = torch.ones(2,5)\n",
    "array = tensor.numpy()\n",
    "array"
   ]
  },
  {
   "cell_type": "markdown",
   "id": "87ac4f1a-f772-47ec-98bd-b6b8e5d573ae",
   "metadata": {},
   "source": [
    "# Reproducibility\n",
    "Producing random but reproducible tensors\n",
    "* In short how a neural network learns:\n",
    "* `start with random numbers-> tensor operations-> update random ynumbers to make them better representation of the data-> again-> again-> again.......`\n",
    "\n",
    "* In order to reduce randomness in neural networks, pytorch comes with a concept of a **random seed**. What **random seed** does is that it falvors the randomness."
   ]
  },
  {
   "cell_type": "markdown",
   "id": "382c9502-55a1-44d5-ae7e-8c8c5a5b3d4a",
   "metadata": {},
   "source": [
    "### Complete Randomness"
   ]
  },
  {
   "cell_type": "code",
   "execution_count": null,
   "id": "a783e06b-b9e4-45d6-b8fa-1eb8c55e2917",
   "metadata": {},
   "outputs": [],
   "source": [
    "rand_tensor_A = torch.rand(3, 4)  #completely random\n",
    "rand_tensor_B = torch.rand(3, 4)  #completely random\n",
    "print(rand_tensor_A)\n",
    "print(rand_tensor_B)\n",
    "print(rand_tensor_A == rand_tensor_B)"
   ]
  },
  {
   "cell_type": "markdown",
   "id": "90c5f5ff-a607-45a8-9e7e-03a22e30f5b8",
   "metadata": {},
   "source": [
    "### Flavored Randomness"
   ]
  },
  {
   "cell_type": "code",
   "execution_count": null,
   "id": "c18a5db3-6dc7-4ab7-b4c3-c0bdb2cbf4eb",
   "metadata": {},
   "outputs": [],
   "source": [
    "RANDOM_SEED = 42  #any integer that will initiate the random generation in the algo\n",
    "\n",
    "torch.manual_seed(RANDOM_SEED) #manually seeding randomness each time we want to use it\n",
    "rand_tensor_C = torch.rand(3, 4)\n",
    "torch.manual_seed(RANDOM_SEED)  #manually seeding again\n",
    "rand_tensor_D = torch.rand(3, 4)\n",
    "\n",
    "print(rand_tensor_C)\n",
    "print(rand_tensor_D)\n",
    "print(rand_tensor_C == rand_tensor_D)"
   ]
  },
  {
   "cell_type": "markdown",
   "id": "faeb982a-140a-4edd-9a7b-838e4e83efee",
   "metadata": {},
   "source": [
    "# Running Pytorch objects on GPU"
   ]
  },
  {
   "cell_type": "code",
   "execution_count": null,
   "id": "e4f91201-d90e-4856-84a3-c40e39f53c87",
   "metadata": {},
   "outputs": [],
   "source": [
    "torch.cuda.is_available()"
   ]
  },
  {
   "cell_type": "code",
   "execution_count": null,
   "id": "bee762b8-b92c-4f2f-8515-64690055521e",
   "metadata": {},
   "outputs": [],
   "source": [
    "device = 'cuda' if torch.cuda.is_available() else 'cpu'\n",
    "device"
   ]
  },
  {
   "cell_type": "markdown",
   "id": "55eb075d-c550-444a-af5e-1af82d052061",
   "metadata": {},
   "source": [
    "## Putting torch objects on CUDA"
   ]
  },
  {
   "cell_type": "code",
   "execution_count": null,
   "id": "5cb9162a-af15-4a85-9b6a-875ed62ad185",
   "metadata": {},
   "outputs": [],
   "source": [
    "tensor = torch.tensor([1,3,4], device = device)\n",
    "tensor.device"
   ]
  },
  {
   "cell_type": "code",
   "execution_count": null,
   "id": "4e2d11c7-8df1-427f-89d3-373291ef13fa",
   "metadata": {},
   "outputs": [],
   "source": []
  }
 ],
 "metadata": {
  "kernelspec": {
   "display_name": "Python 3 (ipykernel)",
   "language": "python",
   "name": "python3"
  },
  "language_info": {
   "codemirror_mode": {
    "name": "ipython",
    "version": 3
   },
   "file_extension": ".py",
   "mimetype": "text/x-python",
   "name": "python",
   "nbconvert_exporter": "python",
   "pygments_lexer": "ipython3",
   "version": "3.12.0"
  }
 },
 "nbformat": 4,
 "nbformat_minor": 5
}
