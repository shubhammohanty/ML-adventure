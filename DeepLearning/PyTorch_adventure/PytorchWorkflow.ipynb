{
 "cells": [
  {
   "cell_type": "code",
   "execution_count": 1,
   "id": "1f0bfb62-1fac-470e-803e-36bcb1ee63e3",
   "metadata": {},
   "outputs": [
    {
     "data": {
      "text/plain": [
       "'2.3.0+cu121'"
      ]
     },
     "execution_count": 1,
     "metadata": {},
     "output_type": "execute_result"
    }
   ],
   "source": [
    "import torch\n",
    "from torch import nn ##nn contains all the buiding block needed to work with neural networks\n",
    "import matplotlib.pyplot as plt\n",
    "torch.__version__"
   ]
  },
  {
   "cell_type": "markdown",
   "id": "dd96739f-59f7-412d-bf85-77a2012278e0",
   "metadata": {},
   "source": [
    "## Preparing and loading data"
   ]
  },
  {
   "cell_type": "markdown",
   "id": "49acc8db-b0c6-4904-8ed0-0b5993960d8c",
   "metadata": {},
   "source": [
    "### Linear Regression\n",
    "For now we are going to create our own data(points on a simple linear line) and then build a model to predict the weight(slope) and bias(intercept) for that dataset"
   ]
  },
  {
   "cell_type": "code",
   "execution_count": 2,
   "id": "b25122a2-0e7a-4347-b4fc-ad28d8bd6edb",
   "metadata": {},
   "outputs": [],
   "source": [
    "# these are the values we are going to predict later\n",
    "weight = 0.3\n",
    "bias = 0.7"
   ]
  },
  {
   "cell_type": "code",
   "execution_count": 3,
   "id": "7685ca23-17a9-490c-b9f4-a287be7c4ac6",
   "metadata": {},
   "outputs": [],
   "source": [
    "#dataset creation\n",
    "X = torch.arange(0,10,0.02).unsqueeze(dim=1) #unsqueezing converts it into a tensor\n",
    "y = X*weight + bias"
   ]
  },
  {
   "cell_type": "code",
   "execution_count": 4,
   "id": "38c76ba6-edd7-4f2c-bc07-71cad9983488",
   "metadata": {},
   "outputs": [],
   "source": [
    "#train-test-splitting\n",
    "train_size = int(0.8*len(X))\n",
    "x_train, x_test = X[:train_size], X[train_size:]\n",
    "y_train, y_test = y[:train_size], y[train_size:]"
   ]
  },
  {
   "cell_type": "code",
   "execution_count": 5,
   "id": "0ee688ae-2dd0-409c-9484-189ac61542b0",
   "metadata": {},
   "outputs": [
    {
     "data": {
      "text/plain": [
       "<matplotlib.legend.Legend at 0x23ee6f53b30>"
      ]
     },
     "execution_count": 5,
     "metadata": {},
     "output_type": "execute_result"
    },
    {
     "data": {
      "image/png": "[encoded data removed]",
      "text/plain": [
       "<Figure size 640x480 with 1 Axes>"
      ]
     },
     "metadata": {},
     "output_type": "display_data"
    }
   ],
   "source": [
    "#Data Visualization\n",
    "plt.scatter(x_train, y_train, color=\"blue\", label=\"Training Data\")\n",
    "plt.scatter(x_test, y_test, color=\"red\", label=\"Testing Data\")\n",
    "plt.legend()"
   ]
  },
  {
   "cell_type": "code",
   "execution_count": 6,
   "id": "0b962e9e-525d-4d5c-9e95-93e9643c6fff",
   "metadata": {},
   "outputs": [],
   "source": [
    "#Writing the linear regression class\n",
    "\n",
    "class LinearRegression(nn.Module):  #our class inherits from nn.Module\n",
    "    def __init__(self):   ##python syntax\n",
    "        super().__init__()\n",
    "        torch.manual_seed(40) #to get consistent results\n",
    "        self.weight = nn.Parameter(torch.randn(1, requires_grad=True))\n",
    "        torch.manual_seed(40) #to get consistent results\n",
    "        self.bias = nn.Parameter(torch.randn(1, requires_grad=True))\n",
    "        \n",
    "#creates a random parameter(size=1) which is a random number to be used as weight/bias in\n",
    "#the starting, requires_grad=True means torch will keep a track of the gradient\n",
    "#to help us use gradient descent by updating the values\n",
    "\n",
    "    #forward method to define the computation in the model.\n",
    "    def forward(self, x: torch.Tensor) -> torch.Tensor:  #this is the syntax to tell the input and return type\n",
    "        return self.weight * x + self.bias"
   ]
  },
  {
   "cell_type": "markdown",
   "id": "1461a25a-ae82-4fc8-8be7-41bb0702c3fd",
   "metadata": {},
   "source": [
    "# Pytorch Model Building Essentials\n",
    "* torch.nn - contains all the buildings for computational graphs(neural network)\n",
    "* torch.nn.Parameter - what params should our model try and learn, often a pytorch layer from torch.nn will set these for us.\n",
    "* torch.nn.Module - The base class for all neural network modules, if you subclass it, you need to override the forward() method.\n",
    "* torch.optim - this is where the optimizers in pytorch live, they will help with gradient descent.\n",
    "* def forward() - All nn.Module subclasses require you to overwrite forward(), this method defines what happens in the forward computation. "
   ]
  },
  {
   "cell_type": "markdown",
   "id": "a648e0d6-f9c2-47f2-aea6-515f15bf188d",
   "metadata": {},
   "source": [
    "## Looking whats inside our Model....\n",
    "We can look at the parameters using `.parameters()` method"
   ]
  },
  {
   "cell_type": "code",
   "execution_count": 7,
   "id": "45723751-ce28-46ea-a119-c47660125098",
   "metadata": {},
   "outputs": [
    {
     "data": {
      "text/plain": [
       "[Parameter containing:\n",
       " tensor([0.9307], requires_grad=True),\n",
       " Parameter containing:\n",
       " tensor([0.9307], requires_grad=True)]"
      ]
     },
     "execution_count": 7,
     "metadata": {},
     "output_type": "execute_result"
    }
   ],
   "source": [
    "model = LinearRegression() #created an instance of the class\n",
    "list(model.parameters())"
   ]
  },
  {
   "cell_type": "code",
   "execution_count": 8,
   "id": "a5a930cb-0d51-4731-b204-369b21b345f5",
   "metadata": {},
   "outputs": [
    {
     "data": {
      "text/plain": [
       "OrderedDict([('weight', tensor([0.9307])), ('bias', tensor([0.9307]))])"
      ]
     },
     "execution_count": 8,
     "metadata": {},
     "output_type": "execute_result"
    }
   ],
   "source": [
    "model.state_dict()   #gies out a dictionary of params"
   ]
  },
  {
   "cell_type": "markdown",
   "id": "638963f0-408a-4fe0-93af-f7ec8d656878",
   "metadata": {},
   "source": [
    "### Making predictions using `torch.inference_mode()`\n",
    "To check the predictive power of our model, we run x_test through the model and compare it to y_test\n",
    "When we pass the data through our model, it is going to run through the forward() method.\n",
    "\n",
    "When we use inference_mode(), we do not track gradient because we not training the data, rather we are checking it, infact we disable all the things that we need while training data. \n",
    "\n",
    "When dealing with large data, we use inference_mode while predicting as it is much faster as it saves memory."
   ]
  },
  {
   "cell_type": "code",
   "execution_count": 9,
   "id": "b049d385-6ed8-4b52-b7a4-c61fcea5e636",
   "metadata": {},
   "outputs": [
    {
     "name": "stdout",
     "output_type": "stream",
     "text": [
      "tensor([[8.3764],\n",
      "        [8.3950],\n",
      "        [8.4137],\n",
      "        [8.4323],\n",
      "        [8.4509],\n",
      "        [8.4695],\n",
      "        [8.4881],\n",
      "        [8.5067],\n",
      "        [8.5253],\n",
      "        [8.5440]])\n",
      "tensor([[3.1000],\n",
      "        [3.1060],\n",
      "        [3.1120],\n",
      "        [3.1180],\n",
      "        [3.1240],\n",
      "        [3.1300],\n",
      "        [3.1360],\n",
      "        [3.1420],\n",
      "        [3.1480],\n",
      "        [3.1540]])\n"
     ]
    }
   ],
   "source": [
    "with torch.inference_mode():\n",
    "    y_preds = model(x_test)\n",
    "\n",
    "print(y_preds[:10])\n",
    "print(y_test[:10])    #the values are very off because the model is not trained"
   ]
  },
  {
   "cell_type": "code",
   "execution_count": 10,
   "id": "7219aac0-e409-4f99-af03-2272591b770a",
   "metadata": {},
   "outputs": [
    {
     "data": {
      "text/plain": [
       "<matplotlib.legend.Legend at 0x23ee706d4f0>"
      ]
     },
     "execution_count": 10,
     "metadata": {},
     "output_type": "execute_result"
    },
    {
     "data": {
      "image/png": "[encoded data removed]",
      "text/plain": [
       "<Figure size 640x480 with 1 Axes>"
      ]
     },
     "metadata": {},
     "output_type": "display_data"
    }
   ],
   "source": [
    "plt.scatter(x_train, y_train, color=\"blue\", label=\"Training Data\")\n",
    "plt.scatter(x_test, y_test, color=\"red\", label=\"Testing Data\")\n",
    "plt.scatter(x_test, y_preds, color=\"green\", label=\"Predicted Data\")\n",
    "plt.legend()"
   ]
  },
  {
   "cell_type": "markdown",
   "id": "b3d5fe3a-e01b-4d28-9964-41150cada24d",
   "metadata": {},
   "source": [
    "### Predicting without `torch.inference_mode()`\n",
    "This tracks the gradient and we can see that when we print the predicted values, it shows `grad_fn`."
   ]
  },
  {
   "cell_type": "code",
   "execution_count": 11,
   "id": "c7e7e595-8e91-4111-96c6-bacc4a57d6e2",
   "metadata": {},
   "outputs": [
    {
     "data": {
      "text/plain": [
       "tensor([[8.3764],\n",
       "        [8.3950],\n",
       "        [8.4137],\n",
       "        [8.4323],\n",
       "        [8.4509],\n",
       "        [8.4695],\n",
       "        [8.4881],\n",
       "        [8.5067],\n",
       "        [8.5253],\n",
       "        [8.5440]], grad_fn=<SliceBackward0>)"
      ]
     },
     "execution_count": 11,
     "metadata": {},
     "output_type": "execute_result"
    }
   ],
   "source": [
    "y_preds = model(x_test)  #as simple as that\n",
    "y_preds[:10]"
   ]
  },
  {
   "cell_type": "markdown",
   "id": "e2ffd9de-74a5-42fc-8b52-0bb82168ceb2",
   "metadata": {},
   "source": [
    "## Training Our Model\n",
    "Training basically means optimizing the values of the parameters to best fit the data or simply minimizing the error. To keep a track of errors, we use a loss function. Pytorch has a lot of builtin loss functions. \n",
    "Loss function may be known with different names like cost function or criterion in different areas.\n",
    "* **Loss Function** - a function that calculates how off are the predicted values are from the real values.\n",
    "* **Optimizer** - a function that takes into account the loss function and acts upon the parameters to reduce the loss function.\n",
    "We can look at mulitple loss functions and optimizer on torch's website and use the best for our use case."
   ]
  },
  {
   "cell_type": "code",
   "execution_count": 12,
   "id": "ed0f301c-d2c6-4de6-aeb8-e783e38d9889",
   "metadata": {},
   "outputs": [],
   "source": [
    "#picking up the loss function\n",
    "loss_fn = nn.L1Loss() #this is the mean abs error func just named by their conventions mehhhh\n",
    "\n",
    "#picking up an optimizier\n",
    "optimizer = torch.optim.SGD(params = model.parameters(), lr = 0.01) #stochastic graident descent\n",
    "# lr stands for the learning rate and determines how large steps are being taken by the optimizer"
   ]
  },
  {
   "cell_type": "markdown",
   "id": "f0611685-5c2b-4651-8a77-940340715dfb",
   "metadata": {},
   "source": [
    "### Training Loop \n",
    "* 1) Loop through data\n",
    "  2) Forward Propogation - passes data through our `forward()` function to make predictions.\n",
    "  3) Calcluate the loss- How off is the real data from predicted data.\n",
    "  4) Optimizer zero grad\n",
    "  5) Backpropogation- Move back through the network to calculate the gradient of each parameter wrt to the loss function.\n",
    "  6) Optimizer step- use the optimizer algo to reduce the loss."
   ]
  },
  {
   "cell_type": "code",
   "execution_count": 13,
   "id": "4db0403a-5bd2-4369-912a-05723842e5e7",
   "metadata": {},
   "outputs": [
    {
     "name": "stdout",
     "output_type": "stream",
     "text": [
      "Epoch: 0 | Train loss: 2.7472622394561768 | Test loss: 5.532130718231201 \n",
      "OrderedDict({'weight': tensor([0.8908]), 'bias': tensor([0.9207])})\n",
      "Epoch: 10 | Train loss: 1.055252194404602 | Test loss: 1.8451201915740967 \n",
      "OrderedDict({'weight': tensor([0.4918]), 'bias': tensor([0.8207])})\n",
      "Epoch: 20 | Train loss: 0.0841454491019249 | Test loss: 0.26070675253868103 \n",
      "OrderedDict({'weight': tensor([0.2649]), 'bias': tensor([0.7551])})\n",
      "Epoch: 30 | Train loss: 0.03011612594127655 | Test loss: 0.36308109760284424 \n",
      "OrderedDict({'weight': tensor([0.2552]), 'bias': tensor([0.7397])})\n",
      "Epoch: 40 | Train loss: 0.07519307732582092 | Test loss: 0.2475443035364151 \n",
      "OrderedDict({'weight': tensor([0.2693]), 'bias': tensor([0.7285])})\n",
      "Epoch: 50 | Train loss: 0.05114318057894707 | Test loss: 0.28976455330848694 \n",
      "OrderedDict({'weight': tensor([0.2657]), 'bias': tensor([0.7190])})\n",
      "Epoch: 60 | Train loss: 0.03955704718828201 | Test loss: 0.30835092067718506 \n",
      "OrderedDict({'weight': tensor([0.2643]), 'bias': tensor([0.7130])})\n",
      "Epoch: 70 | Train loss: 0.03302114084362984 | Test loss: 0.31800204515457153 \n",
      "OrderedDict({'weight': tensor([0.2636]), 'bias': tensor([0.7089])})\n",
      "Epoch: 80 | Train loss: 0.029068047180771828 | Test loss: 0.3234003484249115 \n",
      "OrderedDict({'weight': tensor([0.2633]), 'bias': tensor([0.7061])})\n",
      "Epoch: 90 | Train loss: 0.02658315934240818 | Test loss: 0.3265554904937744 \n",
      "OrderedDict({'weight': tensor([0.2632]), 'bias': tensor([0.7042])})\n",
      "Epoch: 100 | Train loss: 0.024993516504764557 | Test loss: 0.32844555377960205 \n",
      "OrderedDict({'weight': tensor([0.2632]), 'bias': tensor([0.7028])})\n",
      "Epoch: 110 | Train loss: 0.023935561999678612 | Test loss: 0.32963892817497253 \n",
      "OrderedDict({'weight': tensor([0.2631]), 'bias': tensor([0.7019])})\n",
      "Epoch: 120 | Train loss: 0.023241519927978516 | Test loss: 0.33038830757141113 \n",
      "OrderedDict({'weight': tensor([0.2631]), 'bias': tensor([0.7012])})\n",
      "Epoch: 130 | Train loss: 0.022721240296959877 | Test loss: 0.33093374967575073 \n",
      "OrderedDict({'weight': tensor([0.2631]), 'bias': tensor([0.7007])})\n",
      "Epoch: 140 | Train loss: 0.022471187636256218 | Test loss: 0.33118388056755066 \n",
      "OrderedDict({'weight': tensor([0.2631]), 'bias': tensor([0.7005])})\n",
      "Epoch: 150 | Train loss: 0.02222113125026226 | Test loss: 0.3314339816570282 \n",
      "OrderedDict({'weight': tensor([0.2631]), 'bias': tensor([0.7002])})\n",
      "OrderedDict({'weight': tensor([0.3030]), 'bias': tensor([0.7100])})\n"
     ]
    }
   ],
   "source": [
    "torch.manual_seed(42) #to get consistent results\n",
    "#an epoch is one loop through data\n",
    "epochs = 160\n",
    "\n",
    "### Training Mode\n",
    "# 0. Loop through data\n",
    "for epoch in range(epochs):\n",
    "    #set the model to training mode\n",
    "    model.train() #sets all params that require gradients to require graidents\n",
    "\n",
    "    # 1. Forward Pass \n",
    "    y_preds = model(x_train)\n",
    "\n",
    "    # 2. Calculating loss\n",
    "    loss = loss_fn(y_preds, y_train)\n",
    "\n",
    "    # 3. Optimizer zero grad\n",
    "    optimizer.zero_grad()  #zeroes the optimizer step value.\n",
    "\n",
    "    # 4. Backpropogation\n",
    "    loss.backward()\n",
    "\n",
    "    # 5. Optimizer optimizes parameters\n",
    "    optimizer.step()  #calculates what step to take(suppose a step of +1), it need to be zeroed before the next iteration so that next step can be calculated otherwise the steps will keep piling up \n",
    "\n",
    "###Testing Mode\n",
    "    model.eval()  # turns off all settings of the model not needed for evaluation/testing\n",
    "    with torch.inference_mode():  # turns off gradient tracking\n",
    "        # 1. Do the forward pass\n",
    "        test_preds = model(x_test)\n",
    "\n",
    "        # 2. Calculate the loss\n",
    "        test_loss = loss_fn(test_preds, y_test)\n",
    "    if(epoch%10==0):\n",
    "        print(f\"Epoch: {epoch} | Train loss: {loss} | Test loss: {test_loss} \")\n",
    "        print(model.state_dict())\n"
   ]
  },
  {
   "cell_type": "code",
   "execution_count": 14,
   "id": "4a89d211-62ae-4432-ab12-d0f680e023be",
   "metadata": {},
   "outputs": [
    {
     "data": {
      "image/png": "[encoded data removed]",
      "text/plain": [
       "<Figure size 640x480 with 1 Axes>"
      ]
     },
     "metadata": {},
     "output_type": "display_data"
    }
   ],
   "source": [
    "with torch.inference_mode():\n",
    "    y_preds = model(x_test)\n",
    "    plt.scatter(x_train, y_train, color=\"blue\", label=\"Training Data\")\n",
    "    plt.scatter(x_test, y_test, color=\"red\", label=\"Testing Data\")\n",
    "    plt.scatter(x_test, y_preds, color=\"green\", label=\"Predicted Data\")\n",
    "    plt.legend()"
   ]
  },
  {
   "cell_type": "markdown",
   "id": "3effa006-582c-4bec-b9dd-c4ce5c85a409",
   "metadata": {},
   "source": [
    "## Building the model using `nn.Linear()`\n",
    "Now we will not define the parameters ourselves rather create a network which already has the parameters weights and biases already in it. We just need to create layers."
   ]
  },
  {
   "cell_type": "code",
   "execution_count": 26,
   "id": "52de3018-7184-4c02-b962-56975cf75523",
   "metadata": {},
   "outputs": [],
   "source": [
    "#Creating Data\n",
    "X = torch.arange(0,10,0.02, device = 'cuda').unsqueeze(dim=1) #unsqueezing converts it into a tensor\n",
    "y = X*weight + bias\n",
    "#train-test-splitting\n",
    "train_size = int(0.8*len(X))\n",
    "x_train, x_test = X[:train_size], X[train_size:]\n",
    "y_train, y_test = y[:train_size], y[train_size:]"
   ]
  },
  {
   "cell_type": "code",
   "execution_count": 34,
   "id": "10674564-412f-4f0e-a040-3b900fe17e51",
   "metadata": {},
   "outputs": [],
   "source": [
    "#Model Creation\n",
    "class LinearRegressionV2(nn.Module):\n",
    "    def __init__(self):\n",
    "        super().__init__()\n",
    "        torch.manual_seed(42)\n",
    "        self.linear_layer = nn.Linear(in_features=1, out_features =1) #in/out_features are the no. of nodes in input and output layers.\n",
    "    def forward(self, x:torch.Tensor) -> torch.Tensor:\n",
    "        return self.linear_layer(x)"
   ]
  },
  {
   "cell_type": "code",
   "execution_count": 35,
   "id": "c918db6e-77d8-490b-9ac7-9f99eec266e1",
   "metadata": {},
   "outputs": [
    {
     "data": {
      "text/plain": [
       "OrderedDict([('linear_layer.weight', tensor([[0.7645]])),\n",
       "             ('linear_layer.bias', tensor([0.8300]))])"
      ]
     },
     "execution_count": 35,
     "metadata": {},
     "output_type": "execute_result"
    }
   ],
   "source": [
    "model1 = LinearRegressionV2()\n",
    "model1.state_dict()"
   ]
  },
  {
   "cell_type": "code",
   "execution_count": 36,
   "id": "7af6d438-1371-44a6-b8c6-b86d169b9ded",
   "metadata": {},
   "outputs": [
    {
     "data": {
      "text/plain": [
       "device(type='cpu')"
      ]
     },
     "execution_count": 36,
     "metadata": {},
     "output_type": "execute_result"
    }
   ],
   "source": [
    "next(model1.parameters()).device #checking where the model is"
   ]
  },
  {
   "cell_type": "code",
   "execution_count": 37,
   "id": "714a3a5e-8036-4163-80c6-05a414865a68",
   "metadata": {},
   "outputs": [
    {
     "data": {
      "text/plain": [
       "device(type='cuda', index=0)"
      ]
     },
     "execution_count": 37,
     "metadata": {},
     "output_type": "execute_result"
    }
   ],
   "source": [
    "model1.to('cuda') #transferring it to the gpu\n",
    "next(model1.parameters()).device"
   ]
  },
  {
   "cell_type": "code",
   "execution_count": 38,
   "id": "9d93c38a-a05f-4719-88a7-c8704ca0c761",
   "metadata": {},
   "outputs": [],
   "source": [
    "#Loss function and Optimizer\n",
    "loss_fn = nn.L1Loss()\n",
    "optimizer = torch.optim.SGD(params = model1.parameters(), lr = 0.01)"
   ]
  },
  {
   "cell_type": "code",
   "execution_count": 40,
   "id": "d09a751c-ed23-44f3-93f5-53c357d84755",
   "metadata": {},
   "outputs": [
    {
     "name": "stdout",
     "output_type": "stream",
     "text": [
      "Epoch: 0 | TrainLoss: 0.06406950205564499 | TestLoss: 0.22436504065990448\n",
      "OrderedDict({'linear_layer.weight': tensor([[0.3238]], device='cuda:0'), 'linear_layer.bias': tensor([0.7100], device='cuda:0')})\n",
      "Epoch: 10 | TrainLoss: 0.06406950205564499 | TestLoss: 0.22436504065990448\n",
      "OrderedDict({'linear_layer.weight': tensor([[0.3238]], device='cuda:0'), 'linear_layer.bias': tensor([0.7100], device='cuda:0')})\n",
      "Epoch: 20 | TrainLoss: 0.06406950205564499 | TestLoss: 0.22436504065990448\n",
      "OrderedDict({'linear_layer.weight': tensor([[0.3238]], device='cuda:0'), 'linear_layer.bias': tensor([0.7100], device='cuda:0')})\n",
      "Epoch: 30 | TrainLoss: 0.06406950205564499 | TestLoss: 0.22436504065990448\n",
      "OrderedDict({'linear_layer.weight': tensor([[0.3238]], device='cuda:0'), 'linear_layer.bias': tensor([0.7100], device='cuda:0')})\n",
      "Epoch: 40 | TrainLoss: 0.06406950205564499 | TestLoss: 0.22436504065990448\n",
      "OrderedDict({'linear_layer.weight': tensor([[0.3238]], device='cuda:0'), 'linear_layer.bias': tensor([0.7100], device='cuda:0')})\n"
     ]
    }
   ],
   "source": [
    "#Training\n",
    "epochs = 50\n",
    "for epoch in range(epochs):\n",
    "    model1.train()\n",
    "    preds = model1(x_train)\n",
    "    loss = loss_fn(preds, y_train)\n",
    "    optimizer.zero_grad()\n",
    "    loss.backward()\n",
    "    optimizer.step()\n",
    "\n",
    "#Testing\n",
    "    model1.eval()\n",
    "    with torch.inference_mode():\n",
    "        test_preds = model1(x_test)\n",
    "        test_loss = loss_fn(test_preds, y_test)\n",
    "    if(epoch%10==0):\n",
    "        print(f\"Epoch: {epoch} | TrainLoss: {loss} | TestLoss: {test_loss}\")\n",
    "        print(model1.state_dict())"
   ]
  },
  {
   "cell_type": "code",
   "execution_count": null,
   "id": "ccf92098-d9bd-4769-a039-fd8edea85d8a",
   "metadata": {},
   "outputs": [],
   "source": []
  }
 ],
 "metadata": {
  "kernelspec": {
   "display_name": "Python 3 (ipykernel)",
   "language": "python",
   "name": "python3"
  },
  "language_info": {
   "codemirror_mode": {
    "name": "ipython",
    "version": 3
   },
   "file_extension": ".py",
   "mimetype": "text/x-python",
   "name": "python",
   "nbconvert_exporter": "python",
   "pygments_lexer": "ipython3",
   "version": "3.12.0"
  }
 },
 "nbformat": 4,
 "nbformat_minor": 5
}
